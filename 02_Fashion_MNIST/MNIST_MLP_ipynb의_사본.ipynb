{
  "nbformat": 4,
  "nbformat_minor": 0,
  "metadata": {
    "colab": {
      "name": "MNIST_MLP.ipynb의 사본",
      "version": "0.3.2",
      "provenance": [],
      "collapsed_sections": [
        "lunw6QAeWRV5",
        "_RKTk9h3WyL0"
      ]
    },
    "kernelspec": {
      "name": "python3",
      "display_name": "Python 3"
    },
    "accelerator": "GPU"
  },
  "cells": [
    {
      "metadata": {
        "id": "zKFS5GGRct9n",
        "colab_type": "code",
        "colab": {
          "base_uri": "https://localhost:8080/",
          "height": 35
        },
        "outputId": "372a2067-1bbb-48b7-f7fe-6c39614bca13"
      },
      "cell_type": "code",
      "source": [
        "# Hello World!\n",
        "print('Hello World')"
      ],
      "execution_count": 1,
      "outputs": [
        {
          "output_type": "stream",
          "text": [
            "Hello World\n"
          ],
          "name": "stdout"
        }
      ]
    },
    {
      "metadata": {
        "id": "kdQ-GsBQc2V5",
        "colab_type": "text"
      },
      "cell_type": "markdown",
      "source": [
        "### Colab 에서 pyTorch 를 사용하기 위해 설치하는 과정입니다."
      ]
    },
    {
      "metadata": {
        "id": "Pbwu6S4wOxd4",
        "colab_type": "code",
        "colab": {}
      },
      "cell_type": "code",
      "source": [
        "import os\n",
        "from wheel.pep425tags import get_abbr_impl, get_impl_ver, get_abi_tag\n",
        "platform = '{}{}-{}'.format(get_abbr_impl(), get_impl_ver(), get_abi_tag())\n",
        "accelerator = 'cu80' if os.path.exists('/opt/bin/nvidia-smi') else 'cpu'\n",
        "!pip install -q http://download.pytorch.org/whl/{accelerator}/torch-0.4.0-{platform}-linux_x86_64.whl torchvision"
      ],
      "execution_count": 0,
      "outputs": []
    },
    {
      "metadata": {
        "id": "S06EEKiGdIu5",
        "colab_type": "text"
      },
      "cell_type": "markdown",
      "source": [
        "### pyTorch 를 비롯해 오늘 실습에 필요한 파이썬 라이브러리를 읽어들입니다."
      ]
    },
    {
      "metadata": {
        "id": "-2LhJhxtc0Cm",
        "colab_type": "code",
        "colab": {}
      },
      "cell_type": "code",
      "source": [
        "import torch \n",
        "import torch.nn as nn #\n",
        "import torch.nn.functional as F #\n",
        "import torchvision # 이미지 관련 처리, Pretrained Model 관련된 Package 입니다. \n",
        "import torchvision.datasets as vision_dsets\n",
        "import torchvision.transforms as T # 이미지 처리 (Vison) 관련된 transformation이 정의 되어 있습니다.\n",
        "import torch.optim as optim # pytorch 에서 정의한 수 많은 optimization function 들이 들어 있습니다.\n",
        "from torch.utils import data\n",
        "\n",
        "import numpy as np\n",
        "import matplotlib.pyplot as plt # 시각화를 위한 패키지입니다."
      ],
      "execution_count": 0,
      "outputs": []
    },
    {
      "metadata": {
        "id": "OMUvi23EdWvr",
        "colab_type": "text"
      },
      "cell_type": "markdown",
      "source": [
        "# MNIST Feed-Forward Neural Network for a classification"
      ]
    },
    {
      "metadata": {
        "id": "paXurbj1dklQ",
        "colab_type": "text"
      },
      "cell_type": "markdown",
      "source": [
        "## Data Loader 불러오기\n",
        "\n",
        "---\n",
        "\n",
        "\n",
        "- 물음표 2곳 채우기"
      ]
    },
    {
      "metadata": {
        "id": "HsUDRfce3AAQ",
        "colab_type": "code",
        "colab": {}
      },
      "cell_type": "code",
      "source": [
        "mnist_train = vision_dsets.MNIST(root = './',  #root 는 데이터의 저장 위치 입니다. \n",
        "\t\t\t\t\t\t\t\t\ttrain = True, #Train 은 이 데이터가 train 데이터인지 아닌지에 대한 정보입니다. \n",
        "\t\t\t\t\t\t\t\t\ttransform = T.ToTensor(), # 얻어낸 데이터를 pytorch가 계산 할 수 있는 Tensor 로 변환해 줍니다. \n",
        "\t\t\t\t\t\t\t\t\tdownload = True)  # 데이터를 다운로드 할지 여부를 물어봅니다. "
      ],
      "execution_count": 0,
      "outputs": []
    },
    {
      "metadata": {
        "id": "p_FGfwh53IJT",
        "colab_type": "code",
        "colab": {
          "base_uri": "https://localhost:8080/",
          "height": 124
        },
        "outputId": "c8ae6303-fbfa-4dd1-f453-7b8ae5eaa5d2"
      },
      "cell_type": "code",
      "source": [
        "print(mnist_train)"
      ],
      "execution_count": 12,
      "outputs": [
        {
          "output_type": "stream",
          "text": [
            "Dataset MNIST\n",
            "    Number of datapoints: 60000\n",
            "    Split: train\n",
            "    Root Location: ./\n",
            "    Transforms (if any): ToTensor()\n",
            "    Target Transforms (if any): None\n"
          ],
          "name": "stdout"
        }
      ]
    },
    {
      "metadata": {
        "id": "rvKu7wD3c0I8",
        "colab_type": "code",
        "colab": {}
      },
      "cell_type": "code",
      "source": [
        "def MNIST_DATA(root='./', train=True, transforms=None, download =True,batch_size=32, num_worker=1):\n",
        "\n",
        "\tprint (\"[+] Get the MNIST DATA\")\n",
        "\t\"\"\"\n",
        "  \ttorchvision.dataset 에는 우리가 많이 사용하는 데이터들을 쉽게 사용할 수 있도록 되어 있습니다. \n",
        "  \tMachine Learning 에서 Hello world 라고 불리는 Mnist 데이터를 사용해 보겠습니다. \n",
        "  \n",
        "\t\"\"\"\n",
        "\tmnist_train = vision_dsets.MNIST(root = root,  #root 는 데이터의 저장 위치 입니다. \n",
        "\t\t\t\t\t\t\t\t\ttrain = True, #Train 은 이 데이터가 train 데이터인지 아닌지에 대한 정보입니다. \n",
        "\t\t\t\t\t\t\t\t\ttransform = T.ToTensor(), # 얻어낸 데이터를 pytorch가 계산 할 수 있는 Tensor 로 변환해 줍니다. \n",
        "\t\t\t\t\t\t\t\t\tdownload = True)  # 데이터를 다운로드 할지 여부를 물어봅니다. \n",
        "\tmnist_test = vision_dsets.MNIST(root = root,\n",
        "\t\t\t\t\t\t\t\t\ttrain = False,  # Test Data를 가져오기에 Train =False 를 줘야 합니다. \n",
        "\t\t\t\t\t\t\t\t\ttransform = T.ToTensor(),\n",
        "\t\t\t\t\t\t\t\t\tdownload = True)\n",
        "\t\"\"\"\n",
        "  \tData Loader 는 데이터와 batch size의 정보를 바탕으로 매 iteration 마다 주어진 데이터를 원하는 batch size 만큼 반환해주는 iterator입니다. \n",
        "  \t* Practical Guide : Batch size 는 어느정도가 좋나요? -- 클 수록 좋다는 소리가 있습니다. 하지만 gpu memeory 사이즈 한계에 의해 기본적으로 batch size 가 \n",
        "  \t커질 수록 학습에 사용되는 gpu memory 사이즈가 큽니다. (Activation map을 저장해야 하기 때문입니다.) 기본적으로 2의 배수로 저장하는 것이 좋습니다.(Bit size 관련) \n",
        "  \n",
        "\t\"\"\"\n",
        "\ttrainDataLoader = data.DataLoader(dataset = mnist_train,  # DataSet은 어떤 Data를 제공해 줄지에 대한 정보입니다. 여기서는 Training DATA를 제공합니다. \n",
        "\t\t\t\t\t\t\t\t\tbatch_size = batch_size, # batch size 정보를 꼭 줘야 합니다. 한 Batch 당 몇 개의 Data 를 제공할지에 대한 정보입니다. \n",
        "\t\t\t\t\t\t\t\t\tshuffle = True, # Training의 경우 Shuffling 을 해주는 것이 성능에 지대한 영향을 끼칩니다. 꼭 True 를 줘야 합니다. \n",
        "\t\t\t\t\t\t\t\t\tnum_workers = 1) # num worker의 경우 데이터를 로드하는데 worker를 얼마나 추가하겠는가에 대한 정보입니다. \n",
        "\n",
        "\ttestDataLoader = data.DataLoader(dataset = mnist_test, # Test Data Loader 이므로 Test Data를 인자로 전달해줍니다.\n",
        "\t\t\t\t\t\t\t\t\tbatch_size = batch_size, # 마찬가지로 Batch size 를 넣어줍니다. \n",
        "\t\t\t\t\t\t\t\t\tshuffle = False, # shuffling 이 굳이 필요하지 않으므로 false를 줍니다. \n",
        "\t\t\t\t\t\t\t\t\tnum_workers = 1) #\n",
        "\tprint (\"[+] Finished loading data & Preprocessing\")\n",
        "\treturn mnist_train,mnist_test,trainDataLoader,testDataLoader"
      ],
      "execution_count": 0,
      "outputs": []
    },
    {
      "metadata": {
        "id": "zKkg5jcoc0NG",
        "colab_type": "code",
        "colab": {
          "base_uri": "https://localhost:8080/",
          "height": 88
        },
        "outputId": "8ba1843f-57b0-4e64-ea5a-b579da473e5e"
      },
      "cell_type": "code",
      "source": [
        "trainDset,testDset,trainDataLoader,testDataLoader= MNIST_DATA(batch_size = 32)  # Data Loader 를 불러 옵니다. \n",
        "print('[info] # of train batch : ', len(trainDataLoader)) # 60000개 이미지\n",
        "print('[info] # of test batch : ', len(testDataLoader)) # 10016개 이미지\n",
        "\n",
        "device = 'cuda' if torch.cuda.is_available() else 'cpu' # pytorch0.4.0 이상 버젼에서 gpu 설정하는 방식, tensor.to(device) 이런식으로 사용"
      ],
      "execution_count": 25,
      "outputs": [
        {
          "output_type": "stream",
          "text": [
            "[+] Get the MNIST DATA\n",
            "[+] Finished loading data & Preprocessing\n",
            "[info] # of train batch :  1875\n",
            "[info] # of test batch :  313\n"
          ],
          "name": "stdout"
        }
      ]
    },
    {
      "metadata": {
        "id": "06PcsZV52RLE",
        "colab_type": "code",
        "colab": {
          "base_uri": "https://localhost:8080/",
          "height": 764
        },
        "outputId": "95b96627-64f5-4457-a9a2-6443e6788b75"
      },
      "cell_type": "code",
      "source": [
        "dir(trainDataLoader.dataset.train_data.shaep)"
      ],
      "execution_count": 28,
      "outputs": [
        {
          "output_type": "execute_result",
          "data": {
            "text/plain": [
              "['__add__',\n",
              " '__class__',\n",
              " '__delattr__',\n",
              " '__dict__',\n",
              " '__dir__',\n",
              " '__doc__',\n",
              " '__eq__',\n",
              " '__format__',\n",
              " '__ge__',\n",
              " '__getattribute__',\n",
              " '__getitem__',\n",
              " '__gt__',\n",
              " '__hash__',\n",
              " '__init__',\n",
              " '__init_subclass__',\n",
              " '__le__',\n",
              " '__len__',\n",
              " '__lt__',\n",
              " '__module__',\n",
              " '__ne__',\n",
              " '__new__',\n",
              " '__reduce__',\n",
              " '__reduce_ex__',\n",
              " '__repr__',\n",
              " '__setattr__',\n",
              " '__sizeof__',\n",
              " '__str__',\n",
              " '__subclasshook__',\n",
              " '__weakref__',\n",
              " '_check_exists',\n",
              " 'download',\n",
              " 'processed_folder',\n",
              " 'raw_folder',\n",
              " 'root',\n",
              " 'target_transform',\n",
              " 'test_file',\n",
              " 'train',\n",
              " 'train_data',\n",
              " 'train_labels',\n",
              " 'training_file',\n",
              " 'transform',\n",
              " 'urls']"
            ]
          },
          "metadata": {
            "tags": []
          },
          "execution_count": 28
        }
      ]
    },
    {
      "metadata": {
        "id": "88skWwfT3jDn",
        "colab_type": "code",
        "colab": {
          "base_uri": "https://localhost:8080/",
          "height": 35
        },
        "outputId": "9515bb62-b72c-48dd-f548-5fdc18408657"
      },
      "cell_type": "code",
      "source": [
        "print(trainDataLoader.dataset.train_data.shape)"
      ],
      "execution_count": 30,
      "outputs": [
        {
          "output_type": "stream",
          "text": [
            "torch.Size([60000, 28, 28])\n"
          ],
          "name": "stdout"
        }
      ]
    },
    {
      "metadata": {
        "id": "cchknkpD3pFa",
        "colab_type": "code",
        "colab": {
          "base_uri": "https://localhost:8080/",
          "height": 35
        },
        "outputId": "36763db1-33a6-4179-ff23-0fc1927cbb37"
      },
      "cell_type": "code",
      "source": [
        "type(trainDset.train_labels)"
      ],
      "execution_count": 33,
      "outputs": [
        {
          "output_type": "execute_result",
          "data": {
            "text/plain": [
              "torch.Tensor"
            ]
          },
          "metadata": {
            "tags": []
          },
          "execution_count": 33
        }
      ]
    },
    {
      "metadata": {
        "id": "ggrUx5SxD6Hd",
        "colab_type": "code",
        "colab": {
          "base_uri": "https://localhost:8080/",
          "height": 35
        },
        "outputId": "1e31f27c-9c1f-4d52-995d-6a9348ce07ce"
      },
      "cell_type": "code",
      "source": [
        "type(trainDset)"
      ],
      "execution_count": 32,
      "outputs": [
        {
          "output_type": "execute_result",
          "data": {
            "text/plain": [
              "torchvision.datasets.mnist.MNIST"
            ]
          },
          "metadata": {
            "tags": []
          },
          "execution_count": 32
        }
      ]
    },
    {
      "metadata": {
        "id": "9BaMGXxu32xJ",
        "colab_type": "code",
        "colab": {
          "base_uri": "https://localhost:8080/",
          "height": 170
        },
        "outputId": "0bd86c8d-62ce-4eaa-c594-0e3e985d8a58"
      },
      "cell_type": "code",
      "source": [
        "trainDset.info()"
      ],
      "execution_count": 20,
      "outputs": [
        {
          "output_type": "error",
          "ename": "AttributeError",
          "evalue": "ignored",
          "traceback": [
            "\u001b[0;31m---------------------------------------------------------------------------\u001b[0m",
            "\u001b[0;31mAttributeError\u001b[0m                            Traceback (most recent call last)",
            "\u001b[0;32m<ipython-input-20-4ed1fd126405>\u001b[0m in \u001b[0;36m<module>\u001b[0;34m()\u001b[0m\n\u001b[0;32m----> 1\u001b[0;31m \u001b[0mtrainDset\u001b[0m\u001b[0;34m.\u001b[0m\u001b[0minfo\u001b[0m\u001b[0;34m(\u001b[0m\u001b[0;34m)\u001b[0m\u001b[0;34m\u001b[0m\u001b[0m\n\u001b[0m",
            "\u001b[0;31mAttributeError\u001b[0m: 'MNIST' object has no attribute 'info'"
          ]
        }
      ]
    },
    {
      "metadata": {
        "id": "V9eHg4ia5qtQ",
        "colab_type": "code",
        "colab": {
          "base_uri": "https://localhost:8080/",
          "height": 416
        },
        "outputId": "79167654-7444-4748-c647-a92adb7c705f"
      },
      "cell_type": "code",
      "source": [
        "def showImages(image, row):\n",
        "  \n",
        "  for _ in range(row):  \n",
        "  \n",
        "    idx = np.random.choice(32, 6)     # 0 ~ 31 의 정수 중 6 개를 임의로 선택\n",
        "    images =image.numpy()[idx]         # 선택된 index 에 해당하는 이미지를 가져옴\n",
        "    \n",
        "    plt.figure(figsize = (15, 90))     # 세로 길이 15, 가로 길이 15 * 6 의 화면 생성\n",
        "    \n",
        "    for i in range(161, 167):    \n",
        "    \n",
        "      plt.subplot(i)\n",
        "      plt.imshow(images[i - 161])\n",
        "      plt.xticks([])\n",
        "      plt.yticks([])    \n",
        "    \n",
        "    plt.show()  \n",
        "\n",
        "for i, (image, labels) in enumerate(trainDataLoader): \n",
        "  \n",
        "  showImages(image.squeeze(), 3)\n",
        "  break"
      ],
      "execution_count": 0,
      "outputs": [
        {
          "output_type": "display_data",
          "data": {
            "image/png": "[encoded data removed]",
            "text/plain": [
              "<matplotlib.figure.Figure at 0x7f6e84efedd8>"
            ]
          },
          "metadata": {
            "tags": []
          }
        },
        {
          "output_type": "display_data",
          "data": {
            "image/png": "[encoded data removed]",
            "text/plain": [
              "<matplotlib.figure.Figure at 0x7f6e84bb2f60>"
            ]
          },
          "metadata": {
            "tags": []
          }
        },
        {
          "output_type": "display_data",
          "data": {
            "image/png": "[encoded data removed]",
            "text/plain": [
              "<matplotlib.figure.Figure at 0x7f6e84bd96a0>"
            ]
          },
          "metadata": {
            "tags": []
          }
        }
      ]
    },
    {
      "metadata": {
        "id": "DZ5s8ItMgqke",
        "colab_type": "text"
      },
      "cell_type": "markdown",
      "source": [
        "## Train Function"
      ]
    },
    {
      "metadata": {
        "id": "XumKRGFZc0PV",
        "colab_type": "code",
        "colab": {}
      },
      "cell_type": "code",
      "source": [
        "def train_network(net,optimizer,trainloader):\n",
        "  for epoch in range(5):  # loop over the dataset multiple times\n",
        "\n",
        "      running_loss = 0.0 # running loss를 저장하기 위한 변수입니다. \n",
        "      for i, data in enumerate(trainloader): # 한 Epoch 만큼 돕니다. 매 iteration 마다 정해진 Batch size 만큼 데이터를 뱉습니다. \n",
        "          # get the inputs\n",
        "          inputs, labels = data # DataLoader iterator의 반환 값은 input_data 와 labels의 튜플 형식입니다. \n",
        "          inputs = inputs.to(device) # Pytorch에서 nn.Module 에 넣어 Backprop을 계산 하기 위해서는 gpu 연동을 이와 같이 해줘야 합니다.\n",
        "          labels = labels.to(device)\n",
        "          # zero the parameter gradients\n",
        "          optimizer.zero_grad()    #  현재 기존의 backprop을 계산하기 위해서 저장했던 activation buffer 를 비웁니다. Q) 이걸 안 한다면? --> activation memory 가 터진다. \n",
        "                                   # forward 했을 떄 5000이 나오고, 안비워준다면 backpropagation 할때 5000더 추가되서 메모리에 부하\n",
        "\n",
        "          # forward + backward + optimize\n",
        "          outputs = net(inputs) # input 을 넣은 위 network 로 부터 output 을 얻어냅니다. \n",
        "          loss = criterion(outputs, labels) # loss fucntion에 주어진 target과 output 의 score를 계산하여 반환합니다. \n",
        "          loss.backward() # * Scalar Loss value를 Backward() 해주게 되면 주어진 loss값을 바탕으로 backpropagation이 진행됩니다. \n",
        "          optimizer.step() # 계산된 Backprop 을 바탕으로 optimizer가 gradient descenting 을 수행합니다. \n",
        "\n",
        "          # print statistics\n",
        "          running_loss += loss.data[0]\n",
        "          if (i+1) % 500 == 0:    # print every 500 mini-batches\n",
        "              print('[%d, %5d] loss: %.3f' %\n",
        "                    (epoch + 1, i + 1, running_loss / 500))\n",
        "              running_loss = 0.0\n",
        "\n",
        "  print('Finished Training')"
      ],
      "execution_count": 0,
      "outputs": []
    },
    {
      "metadata": {
        "id": "kCaC-wvJjUvT",
        "colab_type": "text"
      },
      "cell_type": "markdown",
      "source": [
        "## Test Function"
      ]
    },
    {
      "metadata": {
        "id": "Cwyd_W0qc0TH",
        "colab_type": "code",
        "colab": {}
      },
      "cell_type": "code",
      "source": [
        "def test(model,test_loader):\n",
        "  model.eval() # Eval Mode 왜 해야 할까요?  --> nn.Dropout BatchNorm 등의 Regularization 들이 test 모드로 들어가게 되기 때문입니다. \n",
        "  test_loss = 0\n",
        "  correct = 0\n",
        "  for data, target in test_loader:\n",
        "    data = data.to(device)\n",
        "    target = target.to(device)  # 기존의 train function의 data 처리부분과 같습니다.  \n",
        "    output = model(data) \n",
        "    pred = output.max(1, keepdim=True)[1] # get the index of the max \n",
        "    correct += pred.eq(target.view_as(pred)).sum().data[0] # 정답 데이터의 갯수를 반환합니다. \n",
        "\n",
        "  test_loss /= len(test_loader.dataset)\n",
        "  print('\\nTest set:  Accuracy: {}/{} ({:.0f}%)\\n'.format(\n",
        "      correct, len(test_loader.dataset),\n",
        "      100. * correct / len(test_loader.dataset)))"
      ],
      "execution_count": 0,
      "outputs": []
    },
    {
      "metadata": {
        "id": "XUK4Q1VJnbM7",
        "colab_type": "text"
      },
      "cell_type": "markdown",
      "source": [
        "## Neural Network  + Activation Function"
      ]
    },
    {
      "metadata": {
        "id": "3u2nEyN0nitN",
        "colab_type": "text"
      },
      "cell_type": "markdown",
      "source": [
        "### 간단한 Neural Network 를 만들어 봅시다. (1)\n",
        "특징 : 2개의 Layer를 가지는 Neural Network \n",
        "<구성>  \n",
        "Layer 1 - input:28*28 , output : 30 + Activation Fucntion - Sigmoid \n",
        "\n",
        "Layer 2 - input: 30 output:10\n",
        "\n",
        "Cross Entropy Loss  + SGD optimizer\n",
        "\n",
        "\n",
        "---\n",
        "\n",
        "물음표 1곳 채우기"
      ]
    },
    {
      "metadata": {
        "id": "R4TArcnmc0WT",
        "colab_type": "code",
        "colab": {}
      },
      "cell_type": "code",
      "source": [
        "class MNIST_Net(nn.Module):\n",
        "    def __init__(self):\n",
        "        super(MNIST_Net, self).__init__() # nn.Module 생성자 호출이 왜 필요할까요? nn.Module 을 상속받아서 부모의 메소드를 쓰기 위해서 상속 \n",
        "        # an affine operation: y = Wx + b\n",
        "        self.fc0 = nn.Linear(28*28,30)\n",
        "        self.fc1 = nn.Linear(30, 10)\n",
        "\n",
        "    def forward(self, x):\n",
        "        x = x.view(-1,28*28) # x.view함수는 주어진 인자의 크기로 해당 데이터의 크기를 반환합니다. 즉, (Batch_size,28,28) --> (Batch_size,28*28)로 변환합니다.\n",
        "        x = F.sigmoid(self.fc0(x)) # 28*28 -> 30 -> Activation function 을 수행합니다.\n",
        "        # linear layer 2ro --> linear layer 로 한개로 퉁처짐\n",
        "        # 따라서 non-linear 하게 하기 위해서 activation 함수를 써준다. \n",
        "        x = self.fc1(x)  # 30 -> 10 으로 10개의 Class에 대한 logit 값을 호출합니다. \n",
        "        return x"
      ],
      "execution_count": 0,
      "outputs": []
    },
    {
      "metadata": {
        "id": "yoMSG1Ptnx90",
        "colab_type": "text"
      },
      "cell_type": "markdown",
      "source": [
        "### Optimizer \n",
        "Optimizer 의 경우 기본적으로 torch.optim 안에 존재합니다. 다양한 optimziers 가 정의되어 있습니다. \n",
        "\n",
        "기본적으로 다음과 같은 구성을 따릅니다. optim.{Optimzier 이름}({Network Parameters},lr ={learning rate })"
      ]
    },
    {
      "metadata": {
        "id": "cAIU84RmnyGi",
        "colab_type": "code",
        "colab": {}
      },
      "cell_type": "code",
      "source": [
        "mnist_net = MNIST_Net().to(device) # 생성한 뉴럴넷 Instance를 생성하고 빠른 학습을 위해 cuda 에 올립니다. \n",
        "criterion = nn.CrossEntropyLoss() # Loss Function을 정의 합니다. 여기서는 cross entrophy loss 를 사용합니다. \n",
        "optimizer = optim.SGD(mnist_net.parameters(), lr=0.001) # optimizer는 이와 같이 training 할 Parameter와 learning rate를 인자로 줍니다. "
      ],
      "execution_count": 0,
      "outputs": []
    },
    {
      "metadata": {
        "id": "Lt_5iIICOomb",
        "colab_type": "code",
        "colab": {
          "base_uri": "https://localhost:8080/",
          "height": 336
        },
        "outputId": "b2b93bce-8e55-40b8-b70d-5e8379149cac"
      },
      "cell_type": "code",
      "source": [
        "train_network(mnist_net,optimizer,trainDataLoader) # 4 Epoch 정도 학습을 진행해봅니다. "
      ],
      "execution_count": 11,
      "outputs": [
        {
          "output_type": "stream",
          "text": [
            "/usr/local/lib/python3.6/dist-packages/ipykernel_launcher.py:21: UserWarning: invalid index of a 0-dim tensor. This will be an error in PyTorch 0.5. Use tensor.item() to convert a 0-dim tensor to a Python number\n"
          ],
          "name": "stderr"
        },
        {
          "output_type": "stream",
          "text": [
            "[1,   500] loss: 2.311\n",
            "[1,  1000] loss: 2.294\n",
            "[1,  1500] loss: 2.279\n",
            "[2,   500] loss: 2.258\n",
            "[2,  1000] loss: 2.247\n",
            "[2,  1500] loss: 2.236\n",
            "[3,   500] loss: 2.216\n",
            "[3,  1000] loss: 2.203\n",
            "[3,  1500] loss: 2.189\n",
            "[4,   500] loss: 2.165\n",
            "[4,  1000] loss: 2.148\n",
            "[4,  1500] loss: 2.135\n",
            "[5,   500] loss: 2.101\n",
            "[5,  1000] loss: 2.084\n",
            "[5,  1500] loss: 2.065\n",
            "Finished Training\n"
          ],
          "name": "stdout"
        }
      ]
    },
    {
      "metadata": {
        "id": "GHg1eIj3oFyn",
        "colab_type": "code",
        "colab": {
          "base_uri": "https://localhost:8080/",
          "height": 125
        },
        "outputId": "a4dbc3b3-40b1-4946-9cb1-7a85288543f7"
      },
      "cell_type": "code",
      "source": [
        "test(mnist_net,testDataLoader) # Test 정확도를 출력해 봅니다. "
      ],
      "execution_count": 12,
      "outputs": [
        {
          "output_type": "stream",
          "text": [
            "/usr/local/lib/python3.6/dist-packages/ipykernel_launcher.py:10: UserWarning: invalid index of a 0-dim tensor. This will be an error in PyTorch 0.5. Use tensor.item() to convert a 0-dim tensor to a Python number\n",
            "  # Remove the CWD from sys.path while we load stuff.\n"
          ],
          "name": "stderr"
        },
        {
          "output_type": "stream",
          "text": [
            "\n",
            "Test set:  Accuracy: 6205/10000 (62%)\n",
            "\n"
          ],
          "name": "stdout"
        }
      ]
    },
    {
      "metadata": {
        "id": "zzbQfuLBBjAV",
        "colab_type": "text"
      },
      "cell_type": "markdown",
      "source": [
        "### 간단한 Neural Network 를 만들어 봅시다. (2)\n",
        "특징 : 2개의 Layer를 가지는 Neural Network \n",
        "<구성>  \n",
        "Layer 1 - input:28*28 , output : 30 + Activation Fucntion - tanh \n",
        "\n",
        "Layer 2 - input: 30 output:10\n",
        "\n",
        "Cross Entropy Loss  + SGD optimizer "
      ]
    },
    {
      "metadata": {
        "id": "mR1SP6mB_LYE",
        "colab_type": "code",
        "colab": {}
      },
      "cell_type": "code",
      "source": [
        "class MNIST_Net(nn.Module):\n",
        "    def __init__(self):\n",
        "        super(MNIST_Net, self).__init__()\n",
        "        # an affine operation: y = Wx + b\n",
        "        self.fc0 = nn.Linear(28*28,30)\n",
        "        self.fc1 = nn.Linear(30, 10)\n",
        "\n",
        "    def forward(self, x):\n",
        "        x = x.view(-1,28*28) # x.view함수는 주어진 인자의 크기로 해당 데이터의 크기를 반환합니다. 즉, (Batch_size,28,28) --> (Batch_size,28*28)로 변환합니다.\n",
        "        x = F.tanh(self.fc0(x)) # 28*28 -> 30 -> Activation function 을 수행합니다.\n",
        "        x = self.fc1(x)  # 30 -> 10 으로 10개의 Class에 대한 logit 값을 호출합니다. \n",
        "        return x"
      ],
      "execution_count": 0,
      "outputs": []
    },
    {
      "metadata": {
        "id": "3_h1A0xhCYxN",
        "colab_type": "code",
        "colab": {}
      },
      "cell_type": "code",
      "source": [
        "mnist_net = MNIST_Net().to(device) # 생성한 뉴럴넷 Instance를 생성하고 빠른 학습을 위해 cuda 에 올립니다. \n",
        "criterion = nn.CrossEntropyLoss() # Loss Function을 정의 합니다. 여기서는 cross entrophy loss 를 사용합니다. \n",
        "optimizer = optim.SGD(mnist_net.parameters(), lr=0.001) # optimizer는 이와 같이 training 할 Parameter와 learning rate를 인자로 줍니다. "
      ],
      "execution_count": 0,
      "outputs": []
    },
    {
      "metadata": {
        "id": "5UW3qPh5CeX2",
        "colab_type": "code",
        "colab": {
          "base_uri": "https://localhost:8080/",
          "height": 336
        },
        "outputId": "81f9fcb0-8d49-4728-a012-c00d165eee66"
      },
      "cell_type": "code",
      "source": [
        "train_network(mnist_net,optimizer,trainDataLoader)"
      ],
      "execution_count": 16,
      "outputs": [
        {
          "output_type": "stream",
          "text": [
            "/usr/local/lib/python3.6/dist-packages/ipykernel_launcher.py:21: UserWarning: invalid index of a 0-dim tensor. This will be an error in PyTorch 0.5. Use tensor.item() to convert a 0-dim tensor to a Python number\n"
          ],
          "name": "stderr"
        },
        {
          "output_type": "stream",
          "text": [
            "[1,   500] loss: 2.222\n",
            "[1,  1000] loss: 2.068\n",
            "[1,  1500] loss: 1.922\n",
            "[2,   500] loss: 1.682\n",
            "[2,  1000] loss: 1.553\n",
            "[2,  1500] loss: 1.452\n",
            "[3,   500] loss: 1.275\n",
            "[3,  1000] loss: 1.189\n",
            "[3,  1500] loss: 1.123\n",
            "[4,   500] loss: 1.004\n",
            "[4,  1000] loss: 0.965\n",
            "[4,  1500] loss: 0.918\n",
            "[5,   500] loss: 0.845\n",
            "[5,  1000] loss: 0.820\n",
            "[5,  1500] loss: 0.779\n",
            "Finished Training\n"
          ],
          "name": "stdout"
        }
      ]
    },
    {
      "metadata": {
        "id": "AiBv0wY8ClIs",
        "colab_type": "code",
        "colab": {
          "base_uri": "https://localhost:8080/",
          "height": 125
        },
        "outputId": "d0188ba4-6618-451b-d33e-bafb04b4ee81"
      },
      "cell_type": "code",
      "source": [
        "test(mnist_net,testDataLoader)"
      ],
      "execution_count": 17,
      "outputs": [
        {
          "output_type": "stream",
          "text": [
            "/usr/local/lib/python3.6/dist-packages/ipykernel_launcher.py:10: UserWarning: invalid index of a 0-dim tensor. This will be an error in PyTorch 0.5. Use tensor.item() to convert a 0-dim tensor to a Python number\n",
            "  # Remove the CWD from sys.path while we load stuff.\n"
          ],
          "name": "stderr"
        },
        {
          "output_type": "stream",
          "text": [
            "\n",
            "Test set:  Accuracy: 8416/10000 (84%)\n",
            "\n"
          ],
          "name": "stdout"
        }
      ]
    },
    {
      "metadata": {
        "id": "YodiGI1lFSbh",
        "colab_type": "text"
      },
      "cell_type": "markdown",
      "source": [
        "![대체 텍스트](https://taewanmerepo.github.io/2017/12/tanh/010.jpg)\n",
        "![대체 텍스트](https://taewanmerepo.github.io/2017/12/tanh/020.jpg)"
      ]
    },
    {
      "metadata": {
        "id": "d8aBndm2F0WF",
        "colab_type": "text"
      },
      "cell_type": "markdown",
      "source": [
        "### 간단한 Neural Network 를 만들어 봅시다. (3)\n",
        "특징 : 2개의 Layer를 가지는 Neural Network \n",
        "<구성>  \n",
        "Layer 1 - input:28*28 , output : 30 + Activation Fucntion - Relu\n",
        "\n",
        "Layer 2 - input: 30 output:10\n",
        "\n",
        "Cross Entropy Loss  + SGD optimizer \n"
      ]
    },
    {
      "metadata": {
        "id": "FYL55HO8Fza-",
        "colab_type": "code",
        "colab": {}
      },
      "cell_type": "code",
      "source": [
        "class MNIST_Net(nn.Module):\n",
        "    def __init__(self):\n",
        "        super(MNIST_Net, self).__init__()\n",
        "        # an affine operation: y = Wx + b\n",
        "        self.fc0 = nn.Linear(28*28,30)\n",
        "        self.fc1 = nn.Linear(30, 10)\n",
        "\n",
        "    def forward(self, x):\n",
        "        # Max pooling over a (2, 2) window\n",
        "        # If the size is a square you can only specify a single number\n",
        "        x = x.view(-1,28*28)\n",
        "        x = F.relu(self.fc0(x))\n",
        "        x = self.fc1(x)\n",
        "        return x"
      ],
      "execution_count": 0,
      "outputs": []
    },
    {
      "metadata": {
        "id": "wPWHit95F6zX",
        "colab_type": "code",
        "colab": {}
      },
      "cell_type": "code",
      "source": [
        "mnist_net = MNIST_Net().to(device) # 생성한 뉴럴넷 Instance를 생성하고 빠른 학습을 위해 cuda 에 올립니다. \n",
        "criterion = nn.CrossEntropyLoss() # Loss Function을 정의 합니다. 여기서는 cross entrophy loss 를 사용합니다. \n",
        "optimizer = optim.SGD(mnist_net.parameters(), lr=0.001) # optimizer는 이와 같이 training 할 Parameter와 learning rate를 인자로 줍니다. "
      ],
      "execution_count": 0,
      "outputs": []
    },
    {
      "metadata": {
        "id": "njHEPR7tF68C",
        "colab_type": "code",
        "colab": {
          "base_uri": "https://localhost:8080/",
          "height": 561
        },
        "outputId": "1ea91fb6-8c17-44d9-82e9-f750a611b187"
      },
      "cell_type": "code",
      "source": [
        "train_network(mnist_net,optimizer,trainDataLoader)"
      ],
      "execution_count": 0,
      "outputs": [
        {
          "output_type": "stream",
          "text": [
            "/usr/local/lib/python3.6/dist-packages/ipykernel_launcher.py:20: UserWarning: invalid index of a 0-dim tensor. This will be an error in PyTorch 0.5. Use tensor.item() to convert a 0-dim tensor to a Python number\n"
          ],
          "name": "stderr"
        },
        {
          "output_type": "stream",
          "text": [
            "[1,   500] loss: 2.281\n",
            "[1,  1000] loss: 2.199\n",
            "[1,  1500] loss: 2.104\n",
            "[2,   500] loss: 1.899\n",
            "[2,  1000] loss: 1.758\n",
            "[2,  1500] loss: 1.605\n",
            "[3,   500] loss: 1.358\n",
            "[3,  1000] loss: 1.224\n",
            "[3,  1500] loss: 1.104\n",
            "[4,   500] loss: 0.961\n",
            "[4,  1000] loss: 0.884\n",
            "[4,  1500] loss: 0.833\n",
            "[5,   500] loss: 0.761\n",
            "[5,  1000] loss: 0.713\n",
            "[5,  1500] loss: 0.679\n",
            "[6,   500] loss: 0.629\n",
            "[6,  1000] loss: 0.617\n",
            "[6,  1500] loss: 0.602\n",
            "[7,   500] loss: 0.563\n",
            "[7,  1000] loss: 0.544\n",
            "[7,  1500] loss: 0.541\n",
            "[8,   500] loss: 0.521\n",
            "[8,  1000] loss: 0.500\n",
            "[8,  1500] loss: 0.498\n",
            "[9,   500] loss: 0.488\n",
            "[9,  1000] loss: 0.468\n",
            "[9,  1500] loss: 0.463\n",
            "[10,   500] loss: 0.455\n",
            "[10,  1000] loss: 0.449\n",
            "[10,  1500] loss: 0.434\n",
            "Finished Training\n"
          ],
          "name": "stdout"
        }
      ]
    },
    {
      "metadata": {
        "id": "MJAGtHFbF_Yy",
        "colab_type": "code",
        "colab": {
          "base_uri": "https://localhost:8080/",
          "height": 102
        },
        "outputId": "ed1b86d9-b461-44ee-d067-fa0466aa5d91"
      },
      "cell_type": "code",
      "source": [
        "test(mnist_net,testDataLoader)"
      ],
      "execution_count": 0,
      "outputs": [
        {
          "output_type": "stream",
          "text": [
            "/usr/local/lib/python3.6/dist-packages/ipykernel_launcher.py:10: UserWarning: invalid index of a 0-dim tensor. This will be an error in PyTorch 0.5. Use tensor.item() to convert a 0-dim tensor to a Python number\n",
            "  # Remove the CWD from sys.path while we load stuff.\n"
          ],
          "name": "stderr"
        },
        {
          "output_type": "stream",
          "text": [
            "\n",
            "Test set:  Accuracy: 8927/10000 (89%)\n",
            "\n"
          ],
          "name": "stdout"
        }
      ]
    },
    {
      "metadata": {
        "id": "8htgRteuG__I",
        "colab_type": "text"
      },
      "cell_type": "markdown",
      "source": [
        "![대체 텍스트](https://cdn-images-1.medium.com/max/1600/1*g0yxlK8kEBw8uA1f82XQdA.png)"
      ]
    },
    {
      "metadata": {
        "id": "jh8oLOl9G_Ao",
        "colab_type": "text"
      },
      "cell_type": "markdown",
      "source": [
        "### 간단한 Neural Network 를 만들어 봅시다. (4) \n",
        "특징 : 3개의 Layer를 가지는 Neural Network \n",
        "<구성>  \n",
        "Activation Fucntion - sigmoid \n",
        "\n",
        "Layer 1 - input:28*28 , output : 40\n",
        "\n",
        "Layer 2 - input: 40 output: 30\n",
        "\n",
        "Layer 3 - input: 30 output : 10\n",
        "\n",
        "Cross Entropy Loss  + SGD optimizer "
      ]
    },
    {
      "metadata": {
        "id": "AtuqhspQHSNM",
        "colab_type": "code",
        "colab": {}
      },
      "cell_type": "code",
      "source": [
        "class MNIST_Net(nn.Module):\n",
        "    def __init__(self):\n",
        "        super(MNIST_Net, self).__init__()\n",
        "        self.fc0 = nn.Linear(28*28,40) # Layer 1\n",
        "        self.fc1 = nn.Linear(40, 30) # Layer 2\n",
        "        self.fc2 = nn.Linear(30, 10) # Layer 3\n",
        "\n",
        "    def forward(self, x):\n",
        "      \n",
        "        x = x.view(-1,28*28)\n",
        "        x = F.sigmoid(self.fc0(x))\n",
        "        x = F.sigmoid(self.fc1(x))\n",
        "        x = self.fc2(x)\n",
        "        return x"
      ],
      "execution_count": 0,
      "outputs": []
    },
    {
      "metadata": {
        "id": "oNG23xqiHSWB",
        "colab_type": "code",
        "colab": {}
      },
      "cell_type": "code",
      "source": [
        "mnist_net = MNIST_Net().to(device) # 생성한 뉴럴넷 Instance를 생성하고 빠른 학습을 위해 cuda 에 올립니다. \n",
        "criterion = nn.CrossEntropyLoss() # Loss Function을 정의 합니다. 여기서는 cross entrophy loss 를 사용합니다. \n",
        "optimizer = optim.SGD(mnist_net.parameters(), lr=0.001) # optimizer는 이와 같이 training 할 Parameter와 learning rate를 인자로 줍니다. "
      ],
      "execution_count": 0,
      "outputs": []
    },
    {
      "metadata": {
        "id": "RAKB5VlpHSa7",
        "colab_type": "code",
        "colab": {
          "base_uri": "https://localhost:8080/",
          "height": 336
        },
        "outputId": "700b20f6-2b45-4500-adba-b50d5fd7c9ee"
      },
      "cell_type": "code",
      "source": [
        "# 활성화 함수가 sigmoid 두개로 쌓아서 gradient descent 를 할때 값이 너무 작아짐. 즉 갱신하지를 못함 . (local 에 갇힘?)\n",
        "train_network(mnist_net,optimizer,trainDataLoader)"
      ],
      "execution_count": 21,
      "outputs": [
        {
          "output_type": "stream",
          "text": [
            "/usr/local/lib/python3.6/dist-packages/ipykernel_launcher.py:21: UserWarning: invalid index of a 0-dim tensor. This will be an error in PyTorch 0.5. Use tensor.item() to convert a 0-dim tensor to a Python number\n"
          ],
          "name": "stderr"
        },
        {
          "output_type": "stream",
          "text": [
            "[1,   500] loss: 2.320\n",
            "[1,  1000] loss: 2.310\n",
            "[1,  1500] loss: 2.304\n",
            "[2,   500] loss: 2.301\n",
            "[2,  1000] loss: 2.300\n",
            "[2,  1500] loss: 2.300\n",
            "[3,   500] loss: 2.300\n",
            "[3,  1000] loss: 2.299\n",
            "[3,  1500] loss: 2.298\n",
            "[4,   500] loss: 2.299\n",
            "[4,  1000] loss: 2.298\n",
            "[4,  1500] loss: 2.297\n",
            "[5,   500] loss: 2.297\n",
            "[5,  1000] loss: 2.297\n",
            "[5,  1500] loss: 2.297\n",
            "Finished Training\n"
          ],
          "name": "stdout"
        }
      ]
    },
    {
      "metadata": {
        "id": "CwFZg31DHxtd",
        "colab_type": "code",
        "colab": {
          "base_uri": "https://localhost:8080/",
          "height": 125
        },
        "outputId": "f7f96cff-2d8e-4f2e-9545-17e89fae4f11"
      },
      "cell_type": "code",
      "source": [
        "test(mnist_net,testDataLoader)"
      ],
      "execution_count": 22,
      "outputs": [
        {
          "output_type": "stream",
          "text": [
            "/usr/local/lib/python3.6/dist-packages/ipykernel_launcher.py:10: UserWarning: invalid index of a 0-dim tensor. This will be an error in PyTorch 0.5. Use tensor.item() to convert a 0-dim tensor to a Python number\n",
            "  # Remove the CWD from sys.path while we load stuff.\n"
          ],
          "name": "stderr"
        },
        {
          "output_type": "stream",
          "text": [
            "\n",
            "Test set:  Accuracy: 1135/10000 (11%)\n",
            "\n"
          ],
          "name": "stdout"
        }
      ]
    },
    {
      "metadata": {
        "id": "i5w7o2qvHvve",
        "colab_type": "text"
      },
      "cell_type": "markdown",
      "source": [
        "### 간단한 Neural Network 를 만들어 봅시다. (5) \n",
        "특징 : 3개의 Layer를 가지는 Neural Network \n",
        "<구성>  \n",
        "Activation Fucntion - Relu \n",
        "\n",
        "Layer 1 - input:28*28 , output : 40\n",
        "\n",
        "Layer 2 - input: 40 output: 30\n",
        "\n",
        "Layer 3 - input: 30 output : 10\n",
        "\n",
        "Cross Entropy Loss  + SGD optimizer "
      ]
    },
    {
      "metadata": {
        "id": "om28DpFSMCWC",
        "colab_type": "code",
        "colab": {}
      },
      "cell_type": "code",
      "source": [
        "class MNIST_Net(nn.Module):\n",
        "    def __init__(self):\n",
        "        super(MNIST_Net, self).__init__()\n",
        "        # an affine operation: y = Wx + b\n",
        "        self.fc0 = nn.Linear(28*28,40) #Layer 1 \n",
        "        self.fc1 = nn.Linear(40, 30) # Layer 2\n",
        "        self.fc2 = nn.Linear(30, 10) # Layer 3\n",
        "\n",
        "    def forward(self, x):\n",
        "       \n",
        "        x = x.view(-1,28*28)\n",
        "        x = F.relu(self.fc0(x)) # Layer 1\n",
        "        x = F.relu(self.fc1(x)) # Layer 2\n",
        "        x = self.fc2(x)\n",
        "        return x"
      ],
      "execution_count": 0,
      "outputs": []
    },
    {
      "metadata": {
        "id": "a4_6U9gSMG4I",
        "colab_type": "code",
        "colab": {}
      },
      "cell_type": "code",
      "source": [
        "mnist_net = MNIST_Net().to(device) # 생성한 뉴럴넷 Instance를 생성하고 빠른 학습을 위해 cuda 에 올립니다. \n",
        "criterion = nn.CrossEntropyLoss() # Loss Function을 정의 합니다. 여기서는 cross entrophy loss 를 사용합니다. \n",
        "optimizer = optim.SGD(mnist_net.parameters(), lr=0.001) # optimizer는 이와 같이 training 할 Parameter와 learning rate를 인자로 줍니다. "
      ],
      "execution_count": 0,
      "outputs": []
    },
    {
      "metadata": {
        "id": "pIKlsZtjMJG1",
        "colab_type": "code",
        "colab": {}
      },
      "cell_type": "code",
      "source": [
        "train_network(mnist_net,optimizer,trainDataLoader)"
      ],
      "execution_count": 0,
      "outputs": []
    },
    {
      "metadata": {
        "id": "NIgSulxqL1F6",
        "colab_type": "text"
      },
      "cell_type": "markdown",
      "source": [
        "### 간단한 Neural Network 를 만들어 봅시다. (6) \n",
        "특징 : 3개의 Layer를 가지는 Neural Network \n",
        "<구성>  \n",
        "Layer 1 - input:28*28 , output : 40 + Activation Fucntion - Relu \n",
        "\n",
        "Layer 2 - input: 40 output: 30\n",
        "\n",
        "Layer 3 - input: 30 output : 10\n",
        "\n",
        "Cross Entropy Loss  + **Adam** optimizer "
      ]
    },
    {
      "metadata": {
        "id": "cLsGGqXFQ8kU",
        "colab_type": "code",
        "colab": {}
      },
      "cell_type": "code",
      "source": [
        "class MNIST_Net(nn.Module):\n",
        "    def __init__(self):\n",
        "        super(MNIST_Net, self).__init__()\n",
        "        # an affine operation: y = Wx + b\n",
        "        self.fc0 = nn.Linear(28*28,40) #Layer 1 \n",
        "        self.fc1 = nn.Linear(40, 30) # Layer 2\n",
        "        self.fc2 = nn.Linear(30, 10) # Layer 3\n",
        "\n",
        "    def forward(self, x):\n",
        "       \n",
        "        x = x.view(-1,28*28)\n",
        "        x = F.relu(self.fc0(x)) # Layer 1\n",
        "        x = F.relu(self.fc1(x)) # Layer 2\n",
        "        x = self.fc2(x) # Layer 3 \n",
        "        return x"
      ],
      "execution_count": 0,
      "outputs": []
    },
    {
      "metadata": {
        "id": "KbsfE8DsQ829",
        "colab_type": "code",
        "colab": {}
      },
      "cell_type": "code",
      "source": [
        "mnist_net = MNIST_Net().to(device) # 생성한 뉴럴넷 Instance를 생성하고 빠른 학습을 위해 cuda 에 올립니다. \n",
        "criterion = nn.CrossEntropyLoss() # Loss Function을 정의 합니다. 여기서는 cross entrophy loss 를 사용합니다. \n",
        "optimizer = optim.Adam(mnist_net.parameters(), lr=0.001) # optimizer는 이와 같이 training 할 Parameter와 learning rate를 인자로 줍니다. "
      ],
      "execution_count": 0,
      "outputs": []
    },
    {
      "metadata": {
        "id": "n6LY_L-BRK0K",
        "colab_type": "code",
        "colab": {}
      },
      "cell_type": "code",
      "source": [
        "train_network(mnist_net,optimizer,trainDataLoader)"
      ],
      "execution_count": 0,
      "outputs": []
    },
    {
      "metadata": {
        "id": "2cXbcBNfRNMZ",
        "colab_type": "code",
        "colab": {}
      },
      "cell_type": "code",
      "source": [
        "test(mnist_net,testDataLoader)"
      ],
      "execution_count": 0,
      "outputs": []
    },
    {
      "metadata": {
        "id": "LShT2tAjRbgo",
        "colab_type": "text"
      },
      "cell_type": "markdown",
      "source": [
        "### 간단한 Neural Network 를 만들어 봅시다. (7) Batch Norm 을 줘 볼까요?\n",
        "특징 : 2개의 Layer를 가지는 Neural Network\n",
        "\n",
        "<구성>  \n",
        "\n",
        "Layer 1 - input:28*28 , output : 40 + Activation Fucntion - Relu + BatchNorm\n",
        "\n",
        "Layer 2 - input: 40 output: 30 + Activation Fucntion - Relu  + BatchNorm\n",
        "\n",
        "Layer 3 - input: 30 output : 10\n",
        "\n",
        "Cross Entropy Loss  + **Adam** optimizer "
      ]
    },
    {
      "metadata": {
        "id": "NrojnT7vRaOj",
        "colab_type": "code",
        "colab": {}
      },
      "cell_type": "code",
      "source": [
        "class MNIST_Net(nn.Module):\n",
        "    def __init__(self):\n",
        "        super(MNIST_Net, self).__init__()\n",
        "        # an affine operation: y = Wx + b\n",
        "        self.fc0 = nn.Linear(28*28,40) #Layer 1 \n",
        "        self.bn0 = nn.BatchNorm1d(40) #BatchNorm1 \n",
        "        self.fc1 = nn.Linear(40, 30) # Layer 2\n",
        "        self.bn1 = nn.BatchNorm1d(30) #BatchNorm1 \n",
        "        self.fc2 = nn.Linear(30, 10) # Layer 3\n",
        "\n",
        "    def forward(self, x):\n",
        "       \n",
        "        x = x.view(-1,28*28)\n",
        "        x = F.relu(self.bn0(self.fc0(x))) # Layer 1\n",
        "        x = F.relu(self.bn1(self.fc1(x))) # Layer 2\n",
        "        x = self.fc2(x)\n",
        "        return x"
      ],
      "execution_count": 0,
      "outputs": []
    },
    {
      "metadata": {
        "id": "pTrn0lmMRkxZ",
        "colab_type": "code",
        "colab": {}
      },
      "cell_type": "code",
      "source": [
        "mnist_net = MNIST_Net().to(device) # 생성한 뉴럴넷 Instance를 생성하고 빠른 학습을 위해 cuda 에 올립니다. \n",
        "criterion = nn.CrossEntropyLoss() # Loss Function을 정의 합니다. 여기서는 cross entrophy loss 를 사용합니다. \n",
        "optimizer = optim.Adam(mnist_net.parameters(), lr=0.001) # optimizer는 이와 같이 training 할 Parameter와 learning rate를 인자로 줍니다. "
      ],
      "execution_count": 0,
      "outputs": []
    },
    {
      "metadata": {
        "id": "TDvcf1LORk5I",
        "colab_type": "code",
        "colab": {
          "base_uri": "https://localhost:8080/",
          "height": 336
        },
        "outputId": "1f9c6c66-4c7e-4ec0-c2b0-c547479be75a"
      },
      "cell_type": "code",
      "source": [
        "train_network(mnist_net,optimizer,trainDataLoader)"
      ],
      "execution_count": 25,
      "outputs": [
        {
          "output_type": "stream",
          "text": [
            "/usr/local/lib/python3.6/dist-packages/ipykernel_launcher.py:21: UserWarning: invalid index of a 0-dim tensor. This will be an error in PyTorch 0.5. Use tensor.item() to convert a 0-dim tensor to a Python number\n"
          ],
          "name": "stderr"
        },
        {
          "output_type": "stream",
          "text": [
            "[1,   500] loss: 0.816\n",
            "[1,  1000] loss: 0.280\n",
            "[1,  1500] loss: 0.230\n",
            "[2,   500] loss: 0.164\n",
            "[2,  1000] loss: 0.161\n",
            "[2,  1500] loss: 0.155\n",
            "[3,   500] loss: 0.131\n",
            "[3,  1000] loss: 0.123\n",
            "[3,  1500] loss: 0.133\n",
            "[4,   500] loss: 0.110\n",
            "[4,  1000] loss: 0.110\n",
            "[4,  1500] loss: 0.114\n",
            "[5,   500] loss: 0.101\n",
            "[5,  1000] loss: 0.099\n",
            "[5,  1500] loss: 0.099\n",
            "Finished Training\n"
          ],
          "name": "stdout"
        }
      ]
    },
    {
      "metadata": {
        "id": "FRqo6UHeRp0z",
        "colab_type": "code",
        "colab": {
          "base_uri": "https://localhost:8080/",
          "height": 125
        },
        "outputId": "81f8e82e-f753-4c02-af3e-a2cf0e879c6c"
      },
      "cell_type": "code",
      "source": [
        "test(mnist_net,testDataLoader)"
      ],
      "execution_count": 26,
      "outputs": [
        {
          "output_type": "stream",
          "text": [
            "/usr/local/lib/python3.6/dist-packages/ipykernel_launcher.py:10: UserWarning: invalid index of a 0-dim tensor. This will be an error in PyTorch 0.5. Use tensor.item() to convert a 0-dim tensor to a Python number\n",
            "  # Remove the CWD from sys.path while we load stuff.\n"
          ],
          "name": "stderr"
        },
        {
          "output_type": "stream",
          "text": [
            "\n",
            "Test set:  Accuracy: 9715/10000 (97%)\n",
            "\n"
          ],
          "name": "stdout"
        }
      ]
    },
    {
      "metadata": {
        "id": "Zezhu4URRs2l",
        "colab_type": "text"
      },
      "cell_type": "markdown",
      "source": [
        "### Let's Do it - 성능을 한번 끝까지 높여볼까요~? 마음대로 한번 최고 성능을 찍어봅시다"
      ]
    },
    {
      "metadata": {
        "id": "qst8UvrTWD3v",
        "colab_type": "code",
        "colab": {}
      },
      "cell_type": "code",
      "source": [
        "class Diy_Net(nn.Module):\n",
        "    def __init__(self):\n",
        "        super(Diy_Net, self).__init__()\n",
        "        # an affine operation: y = Wx + b\n",
        "        self.fc0 = nn.Linear(28*28,392) #Layer 1 \n",
        "        self.bn0 = nn.BatchNorm1d(392) #BatchNorm1 \n",
        "        self.fc1 = nn.Linear(392, 196) # Layer 2\n",
        "        self.bn1 = nn.BatchNorm1d(196) #BatchNorm1 \n",
        "        self.fc2 = nn.Linear(196, 98) # Layer 3\n",
        "        self.bn2 = nn.BatchNorm1d(98) #BatchNorm1 \n",
        "        self.fc3 = nn.Linear(98, 49) # Layer 4\n",
        "        self.bn3 = nn.BatchNorm1d(49) #BatchNorm1 \n",
        "        self.fc4 = nn.Linear(49, 25) # Layer 5\n",
        "        self.bn4 = nn.BatchNorm1d(25) #BatchNorm1 \n",
        "        self.fc5 = nn.Linear(25, 10) # Output Layter\n",
        "        \n",
        "\n",
        "    def forward(self, x):\n",
        "        x = x.view(-1,28*28)\n",
        "        x = F.relu(self.bn0(self.fc0(x))) # Layer 1\n",
        "        x = F.relu(self.bn1(self.fc1(x))) # Layer 2\n",
        "        x = F.relu(self.bn2(self.fc2(x))) # Layer 3\n",
        "        x = F.relu(self.bn3(self.fc3(x))) # Layer 4\n",
        "        x = F.relu(self.bn4(self.fc4(x))) # Layer 5\n",
        "\n",
        "        x = self.fc5(x)\n",
        "        return x"
      ],
      "execution_count": 0,
      "outputs": []
    },
    {
      "metadata": {
        "id": "lunw6QAeWRV5",
        "colab_type": "text"
      },
      "cell_type": "markdown",
      "source": [
        "##### 정답 : 자신을 위해 가능한 보지 말아주세요~"
      ]
    },
    {
      "metadata": {
        "id": "XfknhI1wRt0t",
        "colab_type": "code",
        "colab": {}
      },
      "cell_type": "code",
      "source": [
        "class Diy_Net(nn.Module):\n",
        "    def __init__(self):\n",
        "        super(Diy_Net, self).__init__()\n",
        "        \n",
        "        self.fc0 = nn.Linear(28*28,16*5*5)\n",
        "        self.bn0 = nn.BatchNorm1d(16*5*5)\n",
        "        self.fc1 = nn.Linear(16 * 5 * 5, 84)\n",
        "        self.bn1 = nn.BatchNorm1d(84)\n",
        "        self.fc3 = nn.Linear(84, 10)\n",
        "\n",
        "    def forward(self, x):\n",
        "      \n",
        "        # If the size is a square you can only specify a single number\n",
        "        x = x.view(-1,28*28)\n",
        "        x = F.relu(self.bn0(self.fc0(x)))\n",
        "        x = F.relu(self.bn1(self.fc1(x)))\n",
        "        x = self.fc3(x)\n",
        "        return x"
      ],
      "execution_count": 0,
      "outputs": []
    },
    {
      "metadata": {
        "id": "hReLix9jWVtx",
        "colab_type": "text"
      },
      "cell_type": "markdown",
      "source": [
        "##### --"
      ]
    },
    {
      "metadata": {
        "id": "4bndPK0MRxT2",
        "colab_type": "code",
        "colab": {}
      },
      "cell_type": "code",
      "source": [
        "diy_net = Diy_Net().to(device) # 생성한 뉴럴넷 Instance를 생성하고 빠른 학습을 위해 cuda 에 올립니다. \n",
        "criterion = nn.CrossEntropyLoss() # Loss Function을 정의 합니다. 여기서는 cross entrophy loss 를 사용합니다. \n",
        "optimizer = optim.Adam(diy_net.parameters(), lr=0.001) # optimizer는 이와 같이 training 할 Parameter와 learning rate를 인자로 줍니다. "
      ],
      "execution_count": 0,
      "outputs": []
    },
    {
      "metadata": {
        "id": "m3DfeBXoR1Ev",
        "colab_type": "code",
        "colab": {
          "base_uri": "https://localhost:8080/",
          "height": 336
        },
        "outputId": "a2703ac9-f4f6-4989-e9cf-9c50d768e3bd"
      },
      "cell_type": "code",
      "source": [
        "train_network(diy_net,optimizer,trainDataLoader)"
      ],
      "execution_count": 12,
      "outputs": [
        {
          "output_type": "stream",
          "text": [
            "/usr/local/lib/python3.6/dist-packages/ipykernel_launcher.py:21: UserWarning: invalid index of a 0-dim tensor. This will be an error in PyTorch 0.5. Use tensor.item() to convert a 0-dim tensor to a Python number\n"
          ],
          "name": "stderr"
        },
        {
          "output_type": "stream",
          "text": [
            "[1,   500] loss: 0.809\n",
            "[1,  1000] loss: 0.271\n",
            "[1,  1500] loss: 0.210\n",
            "[2,   500] loss: 0.147\n",
            "[2,  1000] loss: 0.139\n",
            "[2,  1500] loss: 0.130\n",
            "[3,   500] loss: 0.094\n",
            "[3,  1000] loss: 0.102\n",
            "[3,  1500] loss: 0.103\n",
            "[4,   500] loss: 0.078\n",
            "[4,  1000] loss: 0.088\n",
            "[4,  1500] loss: 0.084\n",
            "[5,   500] loss: 0.067\n",
            "[5,  1000] loss: 0.065\n",
            "[5,  1500] loss: 0.064\n",
            "Finished Training\n"
          ],
          "name": "stdout"
        }
      ]
    },
    {
      "metadata": {
        "id": "ARzaGHPDR2t5",
        "colab_type": "code",
        "colab": {
          "base_uri": "https://localhost:8080/",
          "height": 125
        },
        "outputId": "f351f855-7748-4dec-ae3a-49c3b3e49642"
      },
      "cell_type": "code",
      "source": [
        "test(diy_net,testDataLoader)"
      ],
      "execution_count": 22,
      "outputs": [
        {
          "output_type": "stream",
          "text": [
            "/usr/local/lib/python3.6/dist-packages/ipykernel_launcher.py:10: UserWarning: invalid index of a 0-dim tensor. This will be an error in PyTorch 0.5. Use tensor.item() to convert a 0-dim tensor to a Python number\n",
            "  # Remove the CWD from sys.path while we load stuff.\n"
          ],
          "name": "stderr"
        },
        {
          "output_type": "stream",
          "text": [
            "\n",
            "Test set:  Accuracy: 9794/10000 (97%)\n",
            "\n"
          ],
          "name": "stdout"
        }
      ]
    },
    {
      "metadata": {
        "id": "pRRSzKppSEOV",
        "colab_type": "text"
      },
      "cell_type": "markdown",
      "source": [
        "## Practical Guide Pytorch nn.Sequential \n",
        "\n",
        "\n",
        "\n",
        "```\n",
        "x = F.relu(self.bn0(self.fc0(x)))\n",
        "x = F.relu(self.bn1(self.fc1(x)))\n",
        "```\n",
        "너무 복잡하지 않나요?  그냥 x = self.fc(x) 쉽게 해버리면 안 될까요?\n",
        "\n",
        "Solution : nn.Sequential + 자매품 nn.ModuList\n"
      ]
    },
    {
      "metadata": {
        "id": "oFZe4PjESIOn",
        "colab_type": "code",
        "colab": {}
      },
      "cell_type": "code",
      "source": [
        "class Diy_Net(nn.Module):\n",
        "    def __init__(self):\n",
        "        super(MNIST_Net, self).__init__()\n",
        "        \n",
        "        layer_list = [] # 이 리스트에 모든 Layer 를 순차적으로 append 해보겠습니다. \n",
        "        layer_list.append(nn.Linear(28*28,40)) #Layer 1 \n",
        "        layer_list.append(nn.BatchNorm1d(40))#BatchNorm1\n",
        "        layer_list.append(nn.ReLU())\n",
        "        '''\n",
        "        layer 2: input dimension: 40, output dimension: 30, batchnorm, relu\n",
        "        layer 3: input dimension: 30, output dimension: 10\n",
        "        '''\n",
        "        self.net  = nn.Sequential(*layer_list) # nn.Sequential 에 layer list를 넘겨 줍니다.\n",
        "    def forward(self, x):\n",
        "       \n",
        "        x = x.view(-1,28*28)\n",
        "        x = self.net(x) # 넣은 순서대로 적용이 됩니다. \n",
        "        return x"
      ],
      "execution_count": 0,
      "outputs": []
    },
    {
      "metadata": {
        "id": "tqMNVZe7MmEX",
        "colab_type": "text"
      },
      "cell_type": "markdown",
      "source": [
        "     self.fc0 = nn.Linear(28*28,392) #Layer 1 \n",
        "        self.bn0 = nn.BatchNorm1d(392) #BatchNorm1 \n",
        "        self.fc1 = nn.Linear(392, 196) # Layer 2\n",
        "        self.bn1 = nn.BatchNorm1d(196) #BatchNorm1 \n",
        "        self.fc2 = nn.Linear(196, 98) # Layer 3\n",
        "        self.bn2 = nn.BatchNorm1d(98) #BatchNorm1 \n",
        "        self.fc3 = nn.Linear(98, 49) # Layer 4\n",
        "        self.bn3 = nn.BatchNorm1d(49) #BatchNorm1 \n",
        "        self.fc4 = nn.Linear(49, 25) # Layer 5\n",
        "        self.bn4 = nn.BatchNorm1d(25) #BatchNorm1 \n",
        "        self.fc5 = nn.Linear(25, 10) # Output Layter"
      ]
    },
    {
      "metadata": {
        "id": "9v-_AMTKMSYo",
        "colab_type": "code",
        "colab": {}
      },
      "cell_type": "code",
      "source": [
        "class Diy_Net(nn.Module):\n",
        "  def __init__(self):\n",
        "    super(Diy_Net, self).__init__()\n",
        "    \n",
        "    layer_list = []\n",
        "    layer_list.append(nn.Linear(28*28, 392)) # layer 1\n",
        "    layer_list.append(nn.BatchNorm1d(392)) #batchNorm1\n",
        "    layer_list.append(nn.ReLU())\n",
        "    \n",
        "    layer_list.append(nn.Linear(392, 196)) #layer2\n",
        "    layer_list.append(nn.BatchNorm1d(196))\n",
        "    layer_list.append(nn.ReLU())\n",
        "    \n",
        "    layer_list.append(nn.Linear(196, 98)) #layer3\n",
        "    layer_list.append(nn.BatchNorm1d(98))\n",
        "    layer_list.append(nn.ReLU())\n",
        "    \n",
        "    layer_list.append(nn.Linear(98, 49)) #layer4\n",
        "    layer_list.append(nn.BatchNorm1d(49))\n",
        "    layer_list.append(nn.ReLU())\n",
        "    \n",
        "    layer_list.append(nn.Linear(49, 25)) #layer5\n",
        "    layer_list.append(nn.BatchNorm1d(25))\n",
        "    layer_list.append(nn.ReLU())\n",
        "    \n",
        "    layer_list.append(nn.Linear(25, 10)) # Output layer\n",
        "    self.net  = nn.Sequential(*layer_list) # nn.Sequential 에 layer list를 넘겨 줍니다.\n",
        "    \n",
        "  def forward(self, x):\n",
        "\n",
        "      x = x.view(-1,28*28)\n",
        "      x = self.net(x) # 넣은 순서대로 적용이 됩니다. \n",
        "      return x\n",
        "    "
      ],
      "execution_count": 0,
      "outputs": []
    },
    {
      "metadata": {
        "id": "_RKTk9h3WyL0",
        "colab_type": "text"
      },
      "cell_type": "markdown",
      "source": [
        "##### 정답 : 자신을 위해 가능한 보지 말아주세요~"
      ]
    },
    {
      "metadata": {
        "id": "zl_MABtAWyL2",
        "colab_type": "code",
        "colab": {}
      },
      "cell_type": "code",
      "source": [
        "class Diy_Net(nn.Module):\n",
        "    def __init__(self):\n",
        "        super(Diy_Net, self).__init__()\n",
        "        \n",
        "        layer_list = [] # 이 리스트에 모든 Layer 를 순차적으로 append 해보겠습니다. \n",
        "        layer_list.append(nn.Linear(28*28,40)) #Layer 1 \n",
        "        layer_list.append(nn.BatchNorm1d(40))#BatchNorm1\n",
        "        layer_list.append(nn.ReLU())\n",
        "        layer_list.append(nn.Linear(40, 30)) # Layer 2\n",
        "        layer_list.append(nn.BatchNorm1d(30)) #BatchNorm1\n",
        "        layer_list.append(nn.ReLU())\n",
        "        layer_list.append(nn.Linear(30, 10)) # Layer 3\n",
        "        self.net  = nn.Sequential(*layer_list) # nn.Sequential 에 layer list를 넘겨 줍니다.\n",
        "    def forward(self, x):\n",
        "       \n",
        "        x = x.view(-1,28*28)\n",
        "        x = self.net(x) # 넣은 순서대로 적용이 됩니다. \n",
        "        return x"
      ],
      "execution_count": 0,
      "outputs": []
    },
    {
      "metadata": {
        "id": "zfKiGwitWyL3",
        "colab_type": "text"
      },
      "cell_type": "markdown",
      "source": [
        "##### --"
      ]
    },
    {
      "metadata": {
        "id": "aNigMjqDSQ1E",
        "colab_type": "code",
        "colab": {}
      },
      "cell_type": "code",
      "source": [
        "diy_net = Diy_Net().to(device) # 생성한 뉴럴넷 Instance를 생성하고 빠른 학습을 위해 cuda 에 올립니다. \n",
        "criterion = nn.CrossEntropyLoss() # Loss Function을 정의 합니다. 여기서는 cross entrophy loss 를 사용합니다. \n",
        "optimizer = optim.Adam(diy_net.parameters(), lr=0.001) # optimizer는 이와 같이 training 할 Parameter와 learning rate를 인자로 줍니다. "
      ],
      "execution_count": 0,
      "outputs": []
    },
    {
      "metadata": {
        "id": "Pcgg26mSrhwD",
        "colab_type": "code",
        "colab": {
          "base_uri": "https://localhost:8080/",
          "height": 336
        },
        "outputId": "6a778bd7-0225-45d7-8deb-50893b2d1d24"
      },
      "cell_type": "code",
      "source": [
        "train_network(diy_net,optimizer,trainDataLoader)"
      ],
      "execution_count": 21,
      "outputs": [
        {
          "output_type": "stream",
          "text": [
            "/usr/local/lib/python3.6/dist-packages/ipykernel_launcher.py:21: UserWarning: invalid index of a 0-dim tensor. This will be an error in PyTorch 0.5. Use tensor.item() to convert a 0-dim tensor to a Python number\n"
          ],
          "name": "stderr"
        },
        {
          "output_type": "stream",
          "text": [
            "[1,   500] loss: 0.838\n",
            "[1,  1000] loss: 0.277\n",
            "[1,  1500] loss: 0.208\n",
            "[2,   500] loss: 0.139\n",
            "[2,  1000] loss: 0.152\n",
            "[2,  1500] loss: 0.131\n",
            "[3,   500] loss: 0.106\n",
            "[3,  1000] loss: 0.104\n",
            "[3,  1500] loss: 0.098\n",
            "[4,   500] loss: 0.076\n",
            "[4,  1000] loss: 0.089\n",
            "[4,  1500] loss: 0.087\n",
            "[5,   500] loss: 0.060\n",
            "[5,  1000] loss: 0.072\n",
            "[5,  1500] loss: 0.071\n",
            "Finished Training\n"
          ],
          "name": "stdout"
        }
      ]
    },
    {
      "metadata": {
        "id": "v1v3G3lrSTMB",
        "colab_type": "code",
        "colab": {
          "base_uri": "https://localhost:8080/",
          "height": 125
        },
        "outputId": "e72d2e3d-819c-4f15-f3c3-ce46eec9c3e5"
      },
      "cell_type": "code",
      "source": [
        "test(diy_net,testDataLoader)"
      ],
      "execution_count": 23,
      "outputs": [
        {
          "output_type": "stream",
          "text": [
            "/usr/local/lib/python3.6/dist-packages/ipykernel_launcher.py:10: UserWarning: invalid index of a 0-dim tensor. This will be an error in PyTorch 0.5. Use tensor.item() to convert a 0-dim tensor to a Python number\n",
            "  # Remove the CWD from sys.path while we load stuff.\n"
          ],
          "name": "stderr"
        },
        {
          "output_type": "stream",
          "text": [
            "\n",
            "Test set:  Accuracy: 9794/10000 (97%)\n",
            "\n"
          ],
          "name": "stdout"
        }
      ]
    }
  ]
}