{
  "nbformat": 4,
  "nbformat_minor": 0,
  "metadata": {
    "colab": {
      "name": "MLKit_MNIST_keras.ipynb",
      "version": "0.3.2",
      "provenance": []
    },
    "kernelspec": {
      "name": "python3",
      "display_name": "Python 3"
    },
    "accelerator": "GPU"
  },
  "cells": [
    {
      "metadata": {
        "id": "4dR9hDhByBWz",
        "colab_type": "code",
        "colab": {
          "base_uri": "https://localhost:8080/",
          "height": 35
        },
        "outputId": "5906ce7a-5147-4fae-fcc5-0970aebe23c5"
      },
      "cell_type": "code",
      "source": [
        "from __future__ import print_function\n",
        "\n",
        "import keras\n",
        "from keras.datasets import mnist\n",
        "from keras.models import Sequential\n",
        "from keras.layers import Dense, Dropout, InputLayer\n",
        "from keras.optimizers import RMSprop\n",
        "\n",
        "import tensorflow as tf"
      ],
      "execution_count": 1,
      "outputs": [
        {
          "output_type": "stream",
          "text": [
            "Using TensorFlow backend.\n"
          ],
          "name": "stderr"
        }
      ]
    },
    {
      "metadata": {
        "id": "D-p1SXOaykAy",
        "colab_type": "code",
        "colab": {}
      },
      "cell_type": "code",
      "source": [
        "batch_size = 128\n",
        "num_classes = 10\n",
        "epochs = 5"
      ],
      "execution_count": 0,
      "outputs": []
    },
    {
      "metadata": {
        "id": "9sFif8z8yug3",
        "colab_type": "text"
      },
      "cell_type": "markdown",
      "source": [
        "**Load and Split data**"
      ]
    },
    {
      "metadata": {
        "id": "foPRcpbAyrW8",
        "colab_type": "code",
        "colab": {}
      },
      "cell_type": "code",
      "source": [
        "(x_train, y_train), (x_test, y_test) = mnist.load_data()"
      ],
      "execution_count": 0,
      "outputs": []
    },
    {
      "metadata": {
        "id": "36PKBKi8y4nX",
        "colab_type": "code",
        "colab": {
          "base_uri": "https://localhost:8080/",
          "height": 88
        },
        "outputId": "dcfbae82-d83b-434b-97d5-71e134a206fe"
      },
      "cell_type": "code",
      "source": [
        "print('Shape of x_train : {}'.format(x_train.shape))\n",
        "print('Shape of x_test : {}'.format(x_test.shape))\n",
        "print('Shape of y_train : {}'.format(y_train.shape))\n",
        "print('Shape of y_test : {}'.format(y_test.shape))"
      ],
      "execution_count": 9,
      "outputs": [
        {
          "output_type": "stream",
          "text": [
            "Shape of x_train : (60000, 28, 28)\n",
            "Shape of x_test : (10000, 28, 28)\n",
            "Shape of y_train : (60000,)\n",
            "Shape of y_test : (10000,)\n"
          ],
          "name": "stdout"
        }
      ]
    },
    {
      "metadata": {
        "id": "td4Z7cwUzAVT",
        "colab_type": "text"
      },
      "cell_type": "markdown",
      "source": [
        "**Reshape data set and Chage type to float3 **"
      ]
    },
    {
      "metadata": {
        "id": "PadVVeArz1bb",
        "colab_type": "code",
        "colab": {
          "base_uri": "https://localhost:8080/",
          "height": 35
        },
        "outputId": "96d763e1-2287-4eaf-fe46-db91a1f80925"
      },
      "cell_type": "code",
      "source": [
        "x_train.dtype"
      ],
      "execution_count": 20,
      "outputs": [
        {
          "output_type": "execute_result",
          "data": {
            "text/plain": [
              "dtype('uint8')"
            ]
          },
          "metadata": {
            "tags": []
          },
          "execution_count": 20
        }
      ]
    },
    {
      "metadata": {
        "id": "ZKslOZBqy_mZ",
        "colab_type": "code",
        "colab": {}
      },
      "cell_type": "code",
      "source": [
        "x_train = x_train.reshape(60000, 784).astype('float32')\n",
        "x_test = x_test.reshape(10000, 784).astype('float32')"
      ],
      "execution_count": 0,
      "outputs": []
    },
    {
      "metadata": {
        "id": "_LcuKNnEy7Uv",
        "colab_type": "code",
        "colab": {
          "base_uri": "https://localhost:8080/",
          "height": 35
        },
        "outputId": "f2b352e8-33f9-49e8-99fa-15520e58ca21"
      },
      "cell_type": "code",
      "source": [
        "x_train.dtype"
      ],
      "execution_count": 24,
      "outputs": [
        {
          "output_type": "execute_result",
          "data": {
            "text/plain": [
              "dtype('float32')"
            ]
          },
          "metadata": {
            "tags": []
          },
          "execution_count": 24
        }
      ]
    },
    {
      "metadata": {
        "id": "WPpDj3--0s41",
        "colab_type": "text"
      },
      "cell_type": "markdown",
      "source": [
        "**Normalization**"
      ]
    },
    {
      "metadata": {
        "id": "ZiBrP6W20r_-",
        "colab_type": "code",
        "colab": {
          "base_uri": "https://localhost:8080/",
          "height": 35
        },
        "outputId": "697f38d0-54fa-4d71-d418-a2bcfbebba2c"
      },
      "cell_type": "code",
      "source": [
        "x_train /= 255\n",
        "x_test /= 255\n",
        "print(x_train.shape[0], 'train samples')"
      ],
      "execution_count": 25,
      "outputs": [
        {
          "output_type": "stream",
          "text": [
            "60000 train samples\n"
          ],
          "name": "stdout"
        }
      ]
    },
    {
      "metadata": {
        "id": "x1N-c9Q_0CBS",
        "colab_type": "text"
      },
      "cell_type": "markdown",
      "source": [
        "**Label 을 One-hot vector로 변환**\n",
        "- 총 10개의 값 중 label만 1, 나머지 0"
      ]
    },
    {
      "metadata": {
        "id": "fHjOnRt215og",
        "colab_type": "code",
        "colab": {
          "base_uri": "https://localhost:8080/",
          "height": 35
        },
        "outputId": "abeaa143-4f47-47df-d24f-e21886e65ae8"
      },
      "cell_type": "code",
      "source": [
        "# 첫번째 이미지 데이터의 label 은 '5'\n",
        "y_train[0]"
      ],
      "execution_count": 27,
      "outputs": [
        {
          "output_type": "execute_result",
          "data": {
            "text/plain": [
              "5"
            ]
          },
          "metadata": {
            "tags": []
          },
          "execution_count": 27
        }
      ]
    },
    {
      "metadata": {
        "id": "MEUoZ5312Gcq",
        "colab_type": "code",
        "colab": {}
      },
      "cell_type": "code",
      "source": [
        "y_train = keras.utils.to_categorical(y_train, num_classes)\n",
        "y_test = keras.utils.to_categorical(y_test, num_classes)"
      ],
      "execution_count": 0,
      "outputs": []
    },
    {
      "metadata": {
        "id": "TDD_6-PZ2WzI",
        "colab_type": "code",
        "colab": {
          "base_uri": "https://localhost:8080/",
          "height": 35
        },
        "outputId": "f87e1d16-e7f9-41d8-971e-495dd04d3578"
      },
      "cell_type": "code",
      "source": [
        "#One-hot encoding 후\n",
        "y_train[0]"
      ],
      "execution_count": 29,
      "outputs": [
        {
          "output_type": "execute_result",
          "data": {
            "text/plain": [
              "array([0., 0., 0., 0., 0., 1., 0., 0., 0., 0.], dtype=float32)"
            ]
          },
          "metadata": {
            "tags": []
          },
          "execution_count": 29
        }
      ]
    },
    {
      "metadata": {
        "id": "EBjyUfab1gy9",
        "colab_type": "text"
      },
      "cell_type": "markdown",
      "source": [
        "**Keras 모델 생성**"
      ]
    },
    {
      "metadata": {
        "id": "QXVEGvRH2WP0",
        "colab_type": "code",
        "colab": {}
      },
      "cell_type": "code",
      "source": [
        "model = Sequential()\n",
        "\n",
        "model.add(Dense(512, activation='relu', input_dim=784))\n",
        "# model.add(Dropout(0.2))\n",
        "model.add(Dense(512, activation='relu'))\n",
        "# model.add(Dropout(0.2))\n",
        "model.add(Dense(num_classes, activation='softmax'))"
      ],
      "execution_count": 0,
      "outputs": []
    },
    {
      "metadata": {
        "id": "frjfuAP41gUd",
        "colab_type": "code",
        "colab": {
          "base_uri": "https://localhost:8080/",
          "height": 248
        },
        "outputId": "45f7d83f-16fb-4899-9ecc-3c14cf69c9c8"
      },
      "cell_type": "code",
      "source": [
        "model.summary()"
      ],
      "execution_count": 72,
      "outputs": [
        {
          "output_type": "stream",
          "text": [
            "_________________________________________________________________\n",
            "Layer (type)                 Output Shape              Param #   \n",
            "=================================================================\n",
            "dense_4 (Dense)              (None, 512)               401920    \n",
            "_________________________________________________________________\n",
            "dense_5 (Dense)              (None, 512)               262656    \n",
            "_________________________________________________________________\n",
            "dense_6 (Dense)              (None, 10)                5130      \n",
            "=================================================================\n",
            "Total params: 669,706\n",
            "Trainable params: 669,706\n",
            "Non-trainable params: 0\n",
            "_________________________________________________________________\n"
          ],
          "name": "stdout"
        }
      ]
    },
    {
      "metadata": {
        "id": "OpKhjQj53hWP",
        "colab_type": "code",
        "colab": {}
      },
      "cell_type": "code",
      "source": [
        "model.compile(loss='categorical_crossentropy', optimizer=RMSprop(), metrics=['accuracy'])"
      ],
      "execution_count": 0,
      "outputs": []
    },
    {
      "metadata": {
        "id": "-p-9ymBd3x98",
        "colab_type": "code",
        "colab": {
          "base_uri": "https://localhost:8080/",
          "height": 248
        },
        "outputId": "f250da84-9ab1-4719-caaf-f04e95b4bfae"
      },
      "cell_type": "code",
      "source": [
        "history = model.fit(x_train, y_train,\n",
        "                   batch_size = batch_size,\n",
        "                   epochs = epochs,\n",
        "                   verbose =1,\n",
        "                   validation_data = (x_test, y_test))\n",
        "score = model.evaluate(x_test, y_test, verbose=0)\n",
        "print('Test loss', score[0])\n",
        "print('Test accuracy: ', score[1])"
      ],
      "execution_count": 74,
      "outputs": [
        {
          "output_type": "stream",
          "text": [
            "Train on 60000 samples, validate on 10000 samples\n",
            "Epoch 1/5\n",
            "60000/60000 [==============================] - 3s 53us/step - loss: 0.8494 - acc: 0.7410 - val_loss: 0.4217 - val_acc: 0.8685\n",
            "Epoch 2/5\n",
            "60000/60000 [==============================] - 3s 51us/step - loss: 0.3599 - acc: 0.8937 - val_loss: 0.3023 - val_acc: 0.9111\n",
            "Epoch 3/5\n",
            "60000/60000 [==============================] - 3s 51us/step - loss: 0.2884 - acc: 0.9145 - val_loss: 0.2502 - val_acc: 0.9254\n",
            "Epoch 4/5\n",
            "60000/60000 [==============================] - 3s 51us/step - loss: 0.2419 - acc: 0.9283 - val_loss: 0.2387 - val_acc: 0.9323\n",
            "Epoch 5/5\n",
            "60000/60000 [==============================] - 3s 50us/step - loss: 0.2034 - acc: 0.9392 - val_loss: 0.1768 - val_acc: 0.9453\n",
            "Test loss 0.17678991677165032\n",
            "Test accuracy:  0.9453\n"
          ],
          "name": "stdout"
        }
      ]
    },
    {
      "metadata": {
        "id": "mkydt7-j4G8e",
        "colab_type": "code",
        "colab": {}
      },
      "cell_type": "code",
      "source": [
        "def freeze_session(session, keep_var_names=None, output_names=None, clear_devices=True):\n",
        "  from tensorflow.python.framework.graph_util import convert_variables_to_constants\n",
        "  graph = session.graph\n",
        "  with graph.as_default():\n",
        "    freeze_var_names = list(set(v.op.name for v in tf.global_variables()).difference(keep_var_names or []))\n",
        "    output_names = output_names or []\n",
        "    output_names += [v.op.name for v in tf.global_variables()]\n",
        "    input_graph_def = graph.as_graph_def()\n",
        "    if clear_devices:\n",
        "      for node in input_graph_def.node:\n",
        "        node.device=\"\"\n",
        "    frozen_graph = convert_variables_to_constants(session, input_graph_def,\n",
        "                                                 output_names, freeze_var_names)\n",
        "    return frozen_graph"
      ],
      "execution_count": 0,
      "outputs": []
    },
    {
      "metadata": {
        "id": "HOEXOUmT5c5C",
        "colab_type": "code",
        "colab": {
          "base_uri": "https://localhost:8080/",
          "height": 52
        },
        "outputId": "4959b0e3-7f67-48b9-e62b-e3e5d2e949f4"
      },
      "cell_type": "code",
      "source": [
        "from keras import backend as K\n",
        "from keras import backend as K\n",
        "\n",
        "\n",
        "custom_input_tensor = tf.placeholder(tf.float32, shape=(1, 784))\n",
        "output_tensor = model(custom_input_tensor)\n",
        "output_names = [node.op.name for node in model.outputs]\n",
        "\n",
        "frozen_graph = freeze_session(K.get_session(), output_names=[output_tensor.op.name])\n"
      ],
      "execution_count": 76,
      "outputs": [
        {
          "output_type": "stream",
          "text": [
            "INFO:tensorflow:Froze 32 variables.\n",
            "INFO:tensorflow:Converted 32 variables to const ops.\n"
          ],
          "name": "stdout"
        }
      ]
    },
    {
      "metadata": {
        "id": "bsnVsU_U6Xse",
        "colab_type": "code",
        "colab": {}
      },
      "cell_type": "code",
      "source": [
        "tflite_model = tf.contrib.lite.toco_convert(frozen_graph, \n",
        "                                            [custom_input_tensor],\n",
        "                                            [output_tensor])\n",
        "open(\"mnist_mlp.tflite\", \"wb\").write(tflite_model)\n",
        "files.download('mnist_mlp.tflite')"
      ],
      "execution_count": 0,
      "outputs": []
    }
  ]
}